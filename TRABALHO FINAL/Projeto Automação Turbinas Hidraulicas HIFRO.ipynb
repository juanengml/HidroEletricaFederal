{
 "cells": [
  {
   "cell_type": "markdown",
   "metadata": {},
   "source": [
    "# TRABALHO FINAL DA HIDROELETRICA\n",
    "\n",
    "##  Projeto - Exercicio Programa \n",
    "\n",
    "#### As turbinas hidraulicas transformam a energia potencial da agua armazenada em reservatorios em energia mecanica. As turbinas hidraulicas sao extremamente eficientes, mas, como manipulam enormes quantidades de energia, pequenas perdas de eficiencia sao significativas. Por isso, existe uma constante preocupacao com o aumento da eficiencia. Em decorrencia disso, voce foi contratado para automatizar o acionamento das turbinas da Hidroeletrica HIFRO, corn o objetivo de melhorar a eficiencia na producao e transmissao da energia. A turbina utilizada é do tipo bulbo, a mesma utilizada na Hidroeletrica Jirau e Santo Antonio. \n",
    "\n"
   ]
  },
  {
   "cell_type": "markdown",
   "metadata": {},
   "source": [
    "#### Considerando as demandas de geracao de energia e o menor impacto ambiental, espera-se que voce consiga programar o acionamento das turbinas de acordo com a demanda esperada para a proxima hora. \n",
    "\n",
    "A HIFRO possui 45 turbinas de geracao de energia, \n",
    "\n",
    "cada uma com uma producao variante de 75 MW, 71 MW e 67 MW,\n",
    "\n",
    "quando a eficiencia esta em 95%, 90% e 85%, respectivamente. \n",
    "\n",
    "A producao maxima por hora é de 3015 MW. \n",
    "As turbinas operam a 95% quando possuem de 1 a 15 turbinas abertas desde que estejam acionadas em grupos de ate 5 turbinas corn 10 turbinas adjacentes desativadas. \n"
   ]
  },
  {
   "cell_type": "code",
   "execution_count": 15,
   "metadata": {},
   "outputs": [],
   "source": [
    "# Nivel de eficiencia \n",
    "N1 = [75, 95] # Mega Watts, EFICIENCIA PORCENTAGEM\n",
    "N2 = [71, 90] # Mega Watts, EFICIENCIA PORCENTAGEM\n",
    "N3 = [67, 85] # Mega Watts, EFICIENCIA PORCENTAGEM"
   ]
  },
  {
   "cell_type": "markdown",
   "metadata": {},
   "source": [
    "A 90% quando possuem de 16 a 30 turbinas abertas desde que estejam acionadas em grupos de ate 3 turbinas corn 1 turbina adjacente desativada.\n",
    "\n",
    "A 85% quando todas as turbinas estejam alinhadas de forma sequencial e nao se aplicam as restricOes anteriores. \n",
    "\n",
    "Nao é possivel definir eficiencias diferentes para turbinas diferentes. \n",
    "\n",
    "Contudo, alguns dias na semana sao reservados para manutencao periodica das turbinas, nesses dias elas nao podem ser acionadas. \n",
    "Alem da manutencao periOdica, existem as manutencães emergencias, que sao realizadas a qualquer momento.\n",
    "\n",
    "Para a manutencao periodica é realizada ern um grupo de 5 turbinas por vez, corn duracao de 1 hora por turbina.\n",
    "\n",
    "A manutencao emergencial é realizada a qualquer momento, em uma unica turbina, com duracao de 1 hora. \n",
    "\n",
    "Em ambos os casos, para que seja realizada a manutencao deve-se desativar as turbinas adjacentes aquela que esta sendo aplicada a manutencao. \n"
   ]
  },
  {
   "cell_type": "markdown",
   "metadata": {},
   "source": [
    "### O Problema "
   ]
  },
  {
   "cell_type": "markdown",
   "metadata": {},
   "source": [
    "O seu programa deve ler um arquivo do tipo TXT que possui as entradas com 2 e 3 parametros. \n",
    "Neste arquivo, sera apresentado as demandas referentes ao mes de consumo, dia a dia, hora a hora. Os estados definidos para a turbina sao: A — Acionada; D — Desativada; M — Ern Manutencao.\n",
    "\n",
    "0 programa tambem devera possuir um relogio interno para verificar a aplicacao da manutencao. \n",
    "Quando a linha possuir 3 parametros, o programa deve calcular a quantidade de turbinas que serao utilizadas e quais serao acionadas, em seguida deve-se imprimir o relatorio com a data, hora final, producao de energia e estados das turbinas. 0 exemplo de entrada é: \n",
    "\n",
    "Dia-Mes-Ano Hora:Minuto Demanda \n",
    "\n",
    "01-01-2018 01:00 1000 \n",
    "\n",
    "Exemplo de saida: \n",
    "Dia-Mes-Ano Hora:Minuto Producao EstadoDasTurbinas \n",
    "\n",
    "01-01-2018 01:00 1005 A A A A A A A A A A A A A A A D D D D D D D D D D D D D D D D D D D D D D D D D D D D D D \n",
    "\n",
    "Quando a linha possuir 2 parametros, sendo o primeiro do um número e o segundo uma letra, o programa deve realizar a acdo indicada, essa acdo tern a implicacdo direta na acdo de producdo anterior, a acdo podera ser de Acionamento manual (A), Desativacdo manual (D), ou de Manutencdo emergencial (M). A acdo de producdo anterior a linha deve ser refeita de acordo corn novo estado das turbinas que poderdo, ou ndo poderdo, serem utilizadas. Exemplo de entrada: \n",
    "\n",
    "Turbina Acao \n",
    "10 D \n",
    "\n",
    "Exemplo de Saida: \n",
    "\n",
    "01-01-2018 01:00 1005 DDDDDDDDDD AAA A A A AA AA AAA A AD DDDDDDDDDDDDDDDDDDD \n",
    "\n",
    "Quando a linha possuir 2 parametros, sendo os dois números, o programa deve realizar a manutenção periodica nas turbinas. \n",
    "Caso necessario, devera ser recalculado a producdo de energia da linha anterior, e as turbinas que estdo em manutencdo ndo poderdo ser acionadas nas proximas horas, o programa devera calcular o tempo de manutencdo. \n",
    "\n",
    "Os parametros sdo referentes a turbina de inicial e a turbina final que estardo em manutencdo, o programa tambem devera desativar as turbinas adj acentes do grupo que estard em manutencdo, sendo a hora inicial da manutencdo a hora referente a Altima producdo de energia. \n",
    "Exemplo de entrada: \n",
    "\n",
    "Inicial Final 11 15 \n",
    "\n",
    "Exemplo de saida: \n",
    "01-01-2018 01:00 1005 DDDDDDDDDMMMMMMMAAAAAAAAA AAAAAADDDDDDDDDDDDDD "
   ]
  },
  {
   "cell_type": "markdown",
   "metadata": {},
   "source": [
    "## Codigo Beta 1"
   ]
  },
  {
   "cell_type": "markdown",
   "metadata": {},
   "source": [
    "### separando problemas em partes menores\n",
    "\n",
    "1) Ler dados do arquivo \n",
    "\n",
    "2) Processar DADOS DE TEMPO E STATUS (A,D, M)\n"
   ]
  },
  {
   "cell_type": "code",
   "execution_count": 35,
   "metadata": {},
   "outputs": [],
   "source": [
    "arq = open(\"dados.txt\",\"r\").read()"
   ]
  },
  {
   "cell_type": "code",
   "execution_count": 36,
   "metadata": {},
   "outputs": [
    {
     "name": "stdout",
     "output_type": "stream",
     "text": [
      "10 D\n"
     ]
    }
   ],
   "source": [
    "print arq"
   ]
  },
  {
   "cell_type": "code",
   "execution_count": null,
   "metadata": {},
   "outputs": [],
   "source": []
  },
  {
   "cell_type": "code",
   "execution_count": null,
   "metadata": {},
   "outputs": [],
   "source": []
  },
  {
   "cell_type": "code",
   "execution_count": null,
   "metadata": {},
   "outputs": [],
   "source": []
  },
  {
   "cell_type": "markdown",
   "metadata": {},
   "source": [
    "## SESSÃO DE TEST "
   ]
  },
  {
   "cell_type": "code",
   "execution_count": 16,
   "metadata": {},
   "outputs": [
    {
     "name": "stdout",
     "output_type": "stream",
     "text": [
      "Quantidade de Turbinas:  45\n"
     ]
    }
   ],
   "source": [
    "test =[\"01-01-2018 01:00 1005\",\"A A A A A A A A A A A A A A A D D D D D D D D D D D D D D D D D D D D D D D D D D D D D D\"]\n",
    "d = test[1].split(\" \")\n",
    "print \"Quantidade de Turbinas: \",len(d)\n"
   ]
  },
  {
   "cell_type": "code",
   "execution_count": 17,
   "metadata": {},
   "outputs": [
    {
     "name": "stdout",
     "output_type": "stream",
     "text": [
      "A 0\n",
      "TEM  0 A\n",
      "A 1\n",
      "TEM  1 A\n",
      "A 2\n",
      "TEM  2 A\n",
      "A 3\n",
      "TEM  3 A\n",
      "A 4\n",
      "TEM  4 A\n",
      "A 5\n",
      "TEM  5 A\n",
      "A 6\n",
      "TEM  6 A\n",
      "A 7\n",
      "TEM  7 A\n",
      "A 8\n",
      "TEM  8 A\n",
      "A 9\n",
      "TEM  9 A\n",
      "A 10\n",
      "TEM  10 A\n",
      "A 11\n",
      "TEM  11 A\n",
      "A 12\n",
      "TEM  12 A\n",
      "A 13\n",
      "TEM  13 A\n",
      "A 14\n",
      "TEM  14 A\n",
      "D 15\n",
      "D 16\n",
      "D 17\n",
      "D 18\n",
      "D 19\n",
      "D 20\n",
      "D 21\n",
      "D 22\n",
      "D 23\n",
      "D 24\n",
      "D 25\n",
      "D 26\n",
      "D 27\n",
      "D 28\n",
      "D 29\n",
      "D 30\n",
      "D 31\n",
      "D 32\n",
      "D 33\n",
      "D 34\n",
      "D 35\n",
      "D 36\n",
      "D 37\n",
      "D 38\n",
      "D 39\n",
      "D 40\n",
      "D 41\n",
      "D 42\n",
      "D 43\n",
      "D 44\n"
     ]
    }
   ],
   "source": [
    "quant = 0\n",
    "for p in range(len(d)):\n",
    "    if d[p] == \"A\":\n",
    "        quant = quant +1\n",
    "print \"QUANTIDADE de ACIONAMENTO MANULA: \",        "
   ]
  },
  {
   "cell_type": "code",
   "execution_count": 33,
   "metadata": {},
   "outputs": [],
   "source": [
    "ex = \"D D D D D D D D D D A A A A A A A A A A A A A A A D D D D D D D D D D D D D D D D D D D D\"\n",
    "d = ex.split(\" \")\n",
    "quant = 0\n",
    "quantA = 0\n",
    "quantB = 0\n",
    "for p in range(len(d)):\n",
    "   # print p,d[p]\n",
    "    if d[p] == \"D\":\n",
    "        quant = quant + 1\n",
    "    if d[p] == \"A\":\n",
    "        quantA = quantA + 1\n",
    "    if d[p] == \"M\":\n",
    "        quantB = quantB + 1"
   ]
  },
  {
   "cell_type": "code",
   "execution_count": 34,
   "metadata": {},
   "outputs": [
    {
     "name": "stdout",
     "output_type": "stream",
     "text": [
      "45\n"
     ]
    }
   ],
   "source": [
    "print quantA + quant + quantB"
   ]
  },
  {
   "cell_type": "code",
   "execution_count": null,
   "metadata": {},
   "outputs": [],
   "source": []
  }
 ],
 "metadata": {
  "kernelspec": {
   "display_name": "Python 2",
   "language": "python",
   "name": "python2"
  },
  "language_info": {
   "codemirror_mode": {
    "name": "ipython",
    "version": 2
   },
   "file_extension": ".py",
   "mimetype": "text/x-python",
   "name": "python",
   "nbconvert_exporter": "python",
   "pygments_lexer": "ipython2",
   "version": "2.7.15"
  }
 },
 "nbformat": 4,
 "nbformat_minor": 2
}
